{
  "nbformat": 4,
  "nbformat_minor": 0,
  "metadata": {
    "colab": {
      "provenance": [],
      "include_colab_link": true
    },
    "kernelspec": {
      "name": "python3",
      "display_name": "Python 3"
    },
    "language_info": {
      "name": "python"
    }
  },
  "cells": [
    {
      "cell_type": "markdown",
      "metadata": {
        "id": "view-in-github",
        "colab_type": "text"
      },
      "source": [
        "<a href=\"https://colab.research.google.com/github/Victor-Tal/Sorting-Algorithms/blob/main/Copia_de_OC_AA_Ordenamiento.ipynb\" target=\"_parent\"><img src=\"https://colab.research.google.com/assets/colab-badge.svg\" alt=\"Open In Colab\"/></a>"
      ]
    },
    {
      "cell_type": "markdown",
      "source": [
        "# Algoritmos de Ordenamiento\n",
        "\n",
        "<center>\n",
        "<b>Victor Cordero</b><br>\n",
        "<hr>\n",
        "</center>\n"
      ],
      "metadata": {
        "id": "bDZk92lK3T0T"
      }
    },
    {
      "cell_type": "markdown",
      "source": [
        "## Insertion Sort"
      ],
      "metadata": {
        "id": "uz0nANULIMv1"
      }
    },
    {
      "cell_type": "code",
      "execution_count": 1,
      "metadata": {
        "id": "lMBEVNyX1u83"
      },
      "outputs": [],
      "source": [
        "def Insertion_Sort(A):\n",
        "  '''\n",
        "  Algoritmo Insertion-Sort según el Cormen\n",
        "  recibe una lista de Python\n",
        "  '''\n",
        "  for j in range(1,len(A)):\n",
        "    k = A[j]\n",
        "    i = j-1\n",
        "    while i>=0 and k>A[i]:\n",
        "      A[i+1] = A[i]\n",
        "      i-=1\n",
        "    A[i+1] = k\n",
        "  \n",
        "  return A\n"
      ]
    },
    {
      "cell_type": "code",
      "source": [
        "Desordenada = [1,-5,12,9,3,98]\n",
        "print(Insertion_Sort(Desordenada))"
      ],
      "metadata": {
        "colab": {
          "base_uri": "https://localhost:8080/"
        },
        "id": "orO7izs-6Ifz",
        "outputId": "791b7a3b-2f83-4556-a299-f80dde1418da"
      },
      "execution_count": 2,
      "outputs": [
        {
          "output_type": "stream",
          "name": "stdout",
          "text": [
            "[98, 12, 9, 3, 1, -5]\n"
          ]
        }
      ]
    },
    {
      "cell_type": "markdown",
      "source": [
        "## Merge-Sort"
      ],
      "metadata": {
        "id": "gaM9LEwd554m"
      }
    },
    {
      "cell_type": "code",
      "source": [
        "def Merge(Li, Ld):\n",
        "  L = []\n",
        "  while len(Li) > 0 and len(Ld)>0:\n",
        "    if Li[0] < Ld[0]:\n",
        "      L.append(Li[0])\n",
        "      Li.pop(0)\n",
        "    else:\n",
        "      L.append(Ld[0])\n",
        "      Ld.pop(0)\n",
        "  \n",
        "  while len(Li)>0:\n",
        "    L.append(Li[0])\n",
        "    Li.pop(0)\n",
        "  \n",
        "  while len(Ld)>0:\n",
        "    L.append(Ld[0])\n",
        "    Ld.pop(0)\n",
        "\n",
        "  return L\n",
        "\n",
        "def MergeSort(A):\n",
        "  if len(A)>1:\n",
        "    Li = MergeSort(A[0:len(A)//2])\n",
        "    Ld = MergeSort(A[len(A)//2 : len(A)])\n",
        "    return Merge(Li,Ld)\n",
        "  else:\n",
        "    return A"
      ],
      "metadata": {
        "id": "Pse-0UcIAAvK"
      },
      "execution_count": 4,
      "outputs": []
    },
    {
      "cell_type": "code",
      "source": [
        "print( MergeSort([9,6,13,2,19,20,5]) )"
      ],
      "metadata": {
        "colab": {
          "base_uri": "https://localhost:8080/"
        },
        "id": "JEs3GqE16IxF",
        "outputId": "57212293-b43f-4537-ede8-119a776b4134"
      },
      "execution_count": 6,
      "outputs": [
        {
          "output_type": "stream",
          "name": "stdout",
          "text": [
            "[2, 5, 6, 9, 13, 19, 20]\n"
          ]
        }
      ]
    },
    {
      "cell_type": "code",
      "source": [
        "def Burbuja(A):\n",
        "  n = len(A)\n",
        "  for i in range(n):\n",
        "    for j in range(n-i):\n",
        "      for k in range(j):\n",
        "        if A[k] > A[k+1]:\n",
        "          aux = A[k+1]\n",
        "          A[k+1] = A[k]\n",
        "          A[k] = aux\n",
        "  \n",
        "  return A"
      ],
      "metadata": {
        "id": "EvkKkkaN8X4D"
      },
      "execution_count": 7,
      "outputs": []
    },
    {
      "cell_type": "code",
      "source": [
        "B = [9,6,13,2,19,20,5]\n",
        "print(Burbuja(B))\n"
      ],
      "metadata": {
        "colab": {
          "base_uri": "https://localhost:8080/"
        },
        "id": "mGGgTzO5_BJq",
        "outputId": "32ca75e1-02b1-46a6-ac82-7558e0bf7bb3"
      },
      "execution_count": 9,
      "outputs": [
        {
          "output_type": "stream",
          "name": "stdout",
          "text": [
            "[2, 5, 6, 9, 13, 19, 20]\n"
          ]
        }
      ]
    },
    {
      "cell_type": "markdown",
      "source": [
        "#Comparativa de tiempos"
      ],
      "metadata": {
        "id": "lTTRcwVWIpNs"
      }
    },
    {
      "cell_type": "code",
      "source": [
        "import random\n",
        "import time\n",
        "import copy\n",
        "\n",
        "N = 10**3\n",
        "A = N*[0]\n",
        "for i in range(N):\n",
        "  A[i] = random.random()\n",
        "\n",
        "\n",
        "AB = copy.deepcopy(A)\n",
        "ti = time.time()\n",
        "Burbuja(AB)\n",
        "t = time.time() - ti\n",
        "print('Burbuja tardó: ', t, ' segundos')\n",
        "\n",
        "AI = copy.deepcopy(A)\n",
        "ti = time.time()\n",
        "Insertion_Sort(AI)\n",
        "t = time.time() - ti\n",
        "print('Insertion Sort tardó: ', t, ' segundos')\n",
        "\n",
        "AM = copy.deepcopy(A)\n",
        "ti = time.time()\n",
        "MergeSort(AM)\n",
        "t = time.time() - ti\n",
        "print('Merge Sort tardó: ', t, ' segundos')"
      ],
      "metadata": {
        "colab": {
          "base_uri": "https://localhost:8080/"
        },
        "id": "8plQ4G0W_30S",
        "outputId": "3e19c698-d94c-48fd-ecc0-050a304abe90"
      },
      "execution_count": 10,
      "outputs": [
        {
          "output_type": "stream",
          "name": "stdout",
          "text": [
            "Burbuja tardó:  19.04763174057007  segundos\n",
            "Insertion Sort tardó:  0.043595075607299805  segundos\n",
            "Merge Sort tardó:  0.005926370620727539  segundos\n"
          ]
        }
      ]
    },
    {
      "cell_type": "code",
      "source": [],
      "metadata": {
        "id": "voOv87t8CnuC"
      },
      "execution_count": null,
      "outputs": []
    }
  ]
}