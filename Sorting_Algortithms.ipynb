{
  "nbformat": 4,
  "nbformat_minor": 0,
  "metadata": {
    "colab": {
      "provenance": [],
      "authorship_tag": "ABX9TyM3X9aX0/LPc93OXCkErJPi",
      "include_colab_link": true
    },
    "kernelspec": {
      "name": "python3",
      "display_name": "Python 3"
    },
    "language_info": {
      "name": "python"
    }
  },
  "cells": [
    {
      "cell_type": "markdown",
      "metadata": {
        "id": "view-in-github",
        "colab_type": "text"
      },
      "source": [
        "<a href=\"https://colab.research.google.com/github/Victor-Tal/Sorting-Algorithms/blob/main/Sorting_Algortithms.ipynb\" target=\"_parent\"><img src=\"https://colab.research.google.com/assets/colab-badge.svg\" alt=\"Open In Colab\"/></a>"
      ]
    },
    {
      "cell_type": "markdown",
      "source": [
        "# Titulo del Cuaderno de Trabajo de Colab\n",
        "<center>\n",
        "Victor  Hugo Cordero<br>\n",
        "11 de febrero de 2022<hr>\n",
        "</center>\n",
        "\n",
        "\n",
        "El primer programa que haremos sera $\\texttt{Insertion-sort}$. Recordemos que la entrada es un conjunto de datos: $a_1, a_2, \\ldots, a_n$ almacenado en un arreglo $A$ y la salida es un reordenamiento de los datos, denotado como, $a_1', a_2', \\ldots, a_n'$ tale que :\n",
        "\n",
        "$$ a_1'< a_2' < \\ldots < a_n' $$"
      ],
      "metadata": {
        "id": "IHDNoEnm3WMn"
      }
    },
    {
      "cell_type": "markdown",
      "source": [
        "#Insertion Sort"
      ],
      "metadata": {
        "id": "Zv8GgO6kLBbc"
      }
    },
    {
      "cell_type": "code",
      "source": [
        "def Insertion_Sort(A):\n",
        "  '''\n",
        "  Algoritmo Insertion_Sort recibe una lista \n",
        "  y la ordena de menor a mayor \n",
        "  '''\n",
        "  for j in range(len(A)):\n",
        "    k = A[j]\n",
        "    i = j-1\n",
        "    while i>=0 and A[i]>k:\n",
        "      #Para que sea dee menor a mayor, hay que cambiar A[i]<k\n",
        "      A[i+1] = A[i]\n",
        "      i-=1\n",
        "    A[i+1] = k\n",
        "  return A"
      ],
      "metadata": {
        "id": "jGPV6s7x4xz5"
      },
      "execution_count": null,
      "outputs": []
    },
    {
      "cell_type": "code",
      "source": [
        "Desordenada = [1231,453,5,145,86,4]\n",
        "print(Insertion_Sort(Desordenada))"
      ],
      "metadata": {
        "colab": {
          "base_uri": "https://localhost:8080/"
        },
        "id": "4_cZ-ySz6MPn",
        "outputId": "dda98553-7fe5-4f07-d7f6-5a078c0e218d"
      },
      "execution_count": null,
      "outputs": [
        {
          "output_type": "stream",
          "name": "stdout",
          "text": [
            "[4, 5, 86, 145, 453, 1231]\n"
          ]
        }
      ]
    },
    {
      "cell_type": "markdown",
      "source": [
        "#Merge-Sort"
      ],
      "metadata": {
        "id": "259CQsCE6ALO"
      }
    },
    {
      "cell_type": "code",
      "source": [
        "def Merge(Li,Ld):\n",
        "  L = []\n",
        "  while len(Li)>0 and len(Ld)>0:\n",
        "    if Li[0]<Ld[0]:\n",
        "      L.append(Li[0])\n",
        "      Li.pop(0)\n",
        "    else:\n",
        "      L.append(Ld[0])\n",
        "      Ld.pop(0)\n",
        "  while len(Li)>0:\n",
        "    L.append(Li[0])\n",
        "    Li.pop(0)\n",
        "  while len(Ld)>0:\n",
        "    L.append(Ld[0])\n",
        "    Ld.pop(0)\n",
        "  return L\n",
        "\n",
        "def MergeSort(A):\n",
        "  if len(A)>1:\n",
        "    Li = MergeSort(A[0:len(A)//2])\n",
        "    Ld = MergeSort(A[len(A)//2 : len(A)])\n",
        "    return Merge(Li,Ld)\n",
        "  else:\n",
        "    return A "
      ],
      "metadata": {
        "id": "LljClP-16Iuq"
      },
      "execution_count": null,
      "outputs": []
    },
    {
      "cell_type": "code",
      "source": [
        "print(MergeSort([6,7,9,13,2,5,19,20]))"
      ],
      "metadata": {
        "colab": {
          "base_uri": "https://localhost:8080/"
        },
        "id": "PQfpnhxz7_Ky",
        "outputId": "de9332e9-ebc5-49eb-95bc-a27a7755545c"
      },
      "execution_count": null,
      "outputs": [
        {
          "output_type": "stream",
          "name": "stdout",
          "text": [
            "[2, 5, 6, 7, 9, 13, 19, 20]\n"
          ]
        }
      ]
    },
    {
      "cell_type": "markdown",
      "source": [
        "#Burbuja\n"
      ],
      "metadata": {
        "id": "NyA0WsVMKKOM"
      }
    },
    {
      "cell_type": "code",
      "source": [
        "def burbuja(A):\n",
        "  n= len(A)\n",
        "  for i in range(n):\n",
        "    for j in range (n-i):\n",
        "      for k in range(j):\n",
        "        if A[k]>A[k+1]:\n",
        "          aux = A[k+1]\n",
        "          A[k+1]= A[k]\n",
        "          A[k]= aux\n",
        "  return A"
      ],
      "metadata": {
        "id": "5Q68aOnR-UL6"
      },
      "execution_count": null,
      "outputs": []
    },
    {
      "cell_type": "code",
      "source": [
        "B = [9,6,13,2,19,20,5]\n",
        "print(burbuja(B))\n"
      ],
      "metadata": {
        "colab": {
          "base_uri": "https://localhost:8080/"
        },
        "id": "7CLxVlxGuByz",
        "outputId": "8745bd6c-dafb-4496-b2ac-896f6fb87d32"
      },
      "execution_count": null,
      "outputs": [
        {
          "output_type": "stream",
          "name": "stdout",
          "text": [
            "[2, 5, 6, 9, 13, 19, 20]\n"
          ]
        }
      ]
    },
    {
      "cell_type": "markdown",
      "source": [
        "#Merge Sort Cormen\n"
      ],
      "metadata": {
        "id": "-BU3SFKhKRcc"
      }
    },
    {
      "cell_type": "code",
      "source": [
        "inf = float('inf')\n",
        "def Merge_Cormen(A,p,q,r):\n",
        "  #p=<q=<r\n",
        "  n1 = q-p+1 #n1>=1\n",
        "  n2 = r-q  \n",
        "  L=[0]*(n1+1)\n",
        "  R=[0]*(n2+1)\n",
        "\n",
        "  i,j = 0,0\n",
        "  for i in range(n1):\n",
        "    L[i] = A[p+i]\n",
        "  for j in range(n2):\n",
        "    R[j] = A[q+j+1]\n",
        "  L[n1] = inf\n",
        "  R[n2] = inf\n",
        "  \n",
        "  i = 0\n",
        "  j= 0\n",
        "  for k in range (p,r+1):\n",
        "    if L[i]<=R[j]:\n",
        "      A[k]= L[i]\n",
        "      i+=1\n",
        "    else:\n",
        "      A[k] = R[j]\n",
        "      j+=1\n",
        "  return A\n",
        "\n",
        "def MergeSort_Cormen(A,p,r):\n",
        "  if p<r:\n",
        "    q = (p+r)//2\n",
        "\n",
        "    MergeSort_Cormen(A,p,q)\n",
        "    MergeSort_Cormen(A,q+1,r)\n",
        "    return Merge_Cormen(A,p,q,r)\n"
      ],
      "metadata": {
        "id": "9yz96QycuMcy"
      },
      "execution_count": null,
      "outputs": []
    },
    {
      "cell_type": "code",
      "source": [
        "A= [1,2,65,12,12,312,564,43534,212.53,1,212.54]\n",
        "print(MergeSort_Cormen(A,1,len(A)-1))"
      ],
      "metadata": {
        "colab": {
          "base_uri": "https://localhost:8080/"
        },
        "id": "VNnQWd0TksgT",
        "outputId": "2bb718c8-169f-4063-b780-bbe7f071b3a0"
      },
      "execution_count": null,
      "outputs": [
        {
          "output_type": "stream",
          "name": "stdout",
          "text": [
            "[1, 1, 2, 12, 12, 65, 212.53, 212.54, 312, 564, 43534]\n"
          ]
        }
      ]
    },
    {
      "cell_type": "markdown",
      "source": [
        "#Comparativa de tiempos Algoritmos\n"
      ],
      "metadata": {
        "id": "kmEX0ZgdKXBk"
      }
    },
    {
      "cell_type": "code",
      "source": [
        "import random\n",
        "import time\n",
        "import copy\n",
        "\n",
        "N = 2**10\n",
        "A = N*[0]\n",
        "for i in range(N):\n",
        "  A[i] = random.random()\n",
        "\n",
        "print('Para N= 2^11')\n",
        "AB = copy.deepcopy(A)\n",
        "ti = time.time()\n",
        "burbuja(AB)\n",
        "t = time.time() - ti\n",
        "print('Burbuja tardó: \\t\\t\\t', t, ' \\tsegundos')\n",
        "\n",
        "AI = copy.deepcopy(A)\n",
        "ti = time.time()\n",
        "Insertion_Sort(AI)\n",
        "t = time.time() - ti\n",
        "print('Insertion_Sort tardó: \\t\\t', t, ' \\tsegundos')\n",
        "\n",
        "AM = copy.deepcopy(A)\n",
        "ti = time.time()\n",
        "MergeSort(AM)\n",
        "t = time.time() - ti\n",
        "print('Merge Sort tardó: \\t\\t', t, ' \\tsegundos')\n",
        "\n",
        "AMP = copy.deepcopy(A)\n",
        "ti= time.time()\n",
        "AMP.sort()\n",
        "t = time.time() - ti\n",
        "print('El metodo sort de python tardó: ', t, ' segundos')\n",
        "\n",
        "\n",
        "\n",
        "AMC = copy.deepcopy(A)\n",
        "ti= time.time()\n",
        "MergeSort_Cormen(AMC,1,len(AMC)-1)\n",
        "t = time.time() - ti\n",
        "print('Merge Sort del Cormen tardó: \\t', t, ' segundos')\n"
      ],
      "metadata": {
        "colab": {
          "base_uri": "https://localhost:8080/"
        },
        "id": "qFzi4LKrkyun",
        "outputId": "b6265bed-f83c-44eb-9071-f9f9d0be5230"
      },
      "execution_count": null,
      "outputs": [
        {
          "output_type": "stream",
          "name": "stdout",
          "text": [
            "Para N= 2^11\n",
            "Burbuja tardó: \t\t\t 20.698434829711914  \tsegundos\n",
            "Insertion_Sort tardó: \t\t 0.058448076248168945  \tsegundos\n",
            "Merge Sort tardó: \t\t 0.0059795379638671875  \tsegundos\n",
            "El metodo sort de python tardó:  0.00018072128295898438  segundos\n",
            "Merge Sort del Cormen tardó: \t 0.0052776336669921875  segundos\n"
          ]
        }
      ]
    },
    {
      "cell_type": "markdown",
      "source": [
        "# Para N= 10^2 <hr>\n",
        "\n",
        "Burbuja tardó: \t\t\t 0.019141674041748047  \tsegundos\n",
        "\n",
        "Insertion_Sort tardó: \t\t 0.0005266666412353516  \tsegundos\n",
        "\n",
        "Merge Sort tardó: \t\t 0.0004897117614746094  \tsegundos\n",
        "\n",
        "El metodo sort de python tardó:  4.839897155761719e-05  segundos\n",
        "\n",
        "Merge Sort del Cormen tardó: \t 0.00046563148498535156  segundos"
      ],
      "metadata": {
        "id": "eazqQpZlFZ18"
      }
    },
    {
      "cell_type": "markdown",
      "source": [
        "#Para N= 10^3 <hr>\n",
        "\n",
        "Burbuja tardó: \t\t\t 19.015961408615112  \tsegundos \n",
        "\n",
        "Insertion_Sort tardó: \t\t 0.06224942207336426  \tsegundos\n",
        "\n",
        "Merge Sort tardó: \t\t 0.0058443546295166016  \tsegundos\n",
        "\n",
        "El metodo sort de python tardó:  0.00016736984252929688  segundos\n",
        "\n",
        "Merge Sort del Cormen tardó: \t 0.005988121032714844  segundos\n",
        "\n"
      ],
      "metadata": {
        "id": "9bOiPpRk6iAV"
      }
    },
    {
      "cell_type": "markdown",
      "source": [
        "# Para N= 10^4 <hr>\n",
        "Burbuja tardo: + de 30 minutos\n",
        "\n",
        "Insertion_Sort tardó: \t\t 5.855761528015137  \tsegundos\n",
        "\n",
        "Merge Sort tardó: \t\t 0.08006739616394043  \tsegundos\n",
        "\n",
        "El metodo sort de python tardó:  0.001619577407836914  segundos\n",
        "\n",
        "Merge Sort del Cormen tardó: \t 0.06514286994934082  segundos"
      ],
      "metadata": {
        "id": "XGHWdHTrFBVO"
      }
    },
    {
      "cell_type": "markdown",
      "source": [
        "#Para N=2^10 <hr>\n",
        "\n",
        "---\n",
        "\n",
        "\n",
        "Burbuja tardó: \t\t\t 20.698434829711914  \tsegundos\n",
        "\n",
        "Insertion_Sort tardó: \t\t 0.058448076248168945  \tsegundos\n",
        "\n",
        "Merge Sort tardó: \t\t 0.0059795379638671875  \tsegundos\n",
        "\n",
        "El metodo sort de python tardó:  0.00018072128295898438  segundos\n",
        "\n",
        "Merge Sort del Cormen tardó: \t 0.0052776336669921875  segundos"
      ],
      "metadata": {
        "id": "1is6HVq-ITA8"
      }
    },
    {
      "cell_type": "markdown",
      "source": [
        "#Para N=2^11<hr>\n",
        "Burbuja tardó: \t\t\t 170.51034808158875  \tsegundos\n",
        "\n",
        "Insertion_Sort tardó: \t\t 0.25345635414123535  \tsegundos\n",
        "\n",
        "Merge Sort tardó: \t\t 0.014197111129760742  \tsegundos\n",
        "\n",
        "El metodo sort de python tardó:  0.0003025531768798828  segundos\n",
        "\n",
        "Merge Sort del Cormen tardó: \t 0.011886358261108398  segundos"
      ],
      "metadata": {
        "id": "URRzhTb3FwOi"
      }
    }
  ]
}